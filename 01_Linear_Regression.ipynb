{
  "nbformat": 4,
  "nbformat_minor": 0,
  "metadata": {
    "kernelspec": {
      "display_name": "Python 3",
      "language": "python",
      "name": "python3"
    },
    "language_info": {
      "codemirror_mode": {
        "name": "ipython",
        "version": 3
      },
      "file_extension": ".py",
      "mimetype": "text/x-python",
      "name": "python",
      "nbconvert_exporter": "python",
      "pygments_lexer": "ipython3",
      "version": "3.6.4"
    },
    "colab": {
      "name": "01_Linear Regression.ipynb",
      "provenance": [],
      "include_colab_link": true
    }
  },
  "cells": [
    {
      "cell_type": "markdown",
      "metadata": {
        "id": "view-in-github",
        "colab_type": "text"
      },
      "source": [
        "<a href=\"https://colab.research.google.com/github/ErSKS/AI/blob/master/01_Linear_Regression.ipynb\" target=\"_parent\"><img src=\"https://colab.research.google.com/assets/colab-badge.svg\" alt=\"Open In Colab\"/></a>"
      ]
    },
    {
      "cell_type": "markdown",
      "metadata": {
        "id": "sd7jvivo5zC2"
      },
      "source": [
        "### Importing Numpy, Keras and its optimizers"
      ]
    },
    {
      "cell_type": "code",
      "metadata": {
        "id": "JVUtLfNB5zC8",
        "outputId": "eb502c53-18a1-40a8-efa5-4ab722dfafa2"
      },
      "source": [
        "import numpy as np\n",
        "from numpy.random import random\n",
        "\n",
        "import keras\n",
        "from keras.models import Sequential\n",
        "from keras.layers.core import Dense\n",
        "from keras.optimizers import SGD"
      ],
      "execution_count": null,
      "outputs": [
        {
          "output_type": "stream",
          "text": [
            "C:\\ProgramData\\Anaconda3\\lib\\site-packages\\h5py\\__init__.py:36: FutureWarning: Conversion of the second argument of issubdtype from `float` to `np.floating` is deprecated. In future, it will be treated as `np.float64 == np.dtype(float).type`.\n",
            "  from ._conv import register_converters as _register_converters\n",
            "Using TensorFlow backend.\n"
          ],
          "name": "stderr"
        }
      ]
    },
    {
      "cell_type": "code",
      "metadata": {
        "id": "Qu6xtRpE5zC-",
        "outputId": "060ef497-8f15-4b3e-818d-b74c30a2f577"
      },
      "source": [
        "x = random((20,1))\n",
        "x"
      ],
      "execution_count": null,
      "outputs": [
        {
          "output_type": "execute_result",
          "data": {
            "text/plain": [
              "array([[0.92311537],\n",
              "       [0.81631009],\n",
              "       [0.01910849],\n",
              "       [0.89364207],\n",
              "       [0.35955744],\n",
              "       [0.58069642],\n",
              "       [0.52663084],\n",
              "       [0.17406007],\n",
              "       [0.48148889],\n",
              "       [0.37600145],\n",
              "       [0.88244908],\n",
              "       [0.66492984],\n",
              "       [0.97980167],\n",
              "       [0.21010525],\n",
              "       [0.68648837],\n",
              "       [0.16362981],\n",
              "       [0.09470291],\n",
              "       [0.04564541],\n",
              "       [0.87574116],\n",
              "       [0.35631103]])"
            ]
          },
          "metadata": {
            "tags": []
          },
          "execution_count": 2
        }
      ]
    },
    {
      "cell_type": "markdown",
      "metadata": {
        "id": "bCss8OdJ5zC_"
      },
      "source": [
        " ## y = 2 * x + 2\n"
      ]
    },
    {
      "cell_type": "code",
      "metadata": {
        "id": "V-9bR3wq5zC_"
      },
      "source": [
        "y = np.dot(x, 2.) + 2."
      ],
      "execution_count": null,
      "outputs": []
    },
    {
      "cell_type": "markdown",
      "metadata": {
        "id": "kNSx-syb5zDA"
      },
      "source": [
        "#### Showing Values of X"
      ]
    },
    {
      "cell_type": "code",
      "metadata": {
        "id": "URjBzDW35zDB",
        "outputId": "cf098302-b94d-445b-f84d-d960e2eda8eb"
      },
      "source": [
        "x"
      ],
      "execution_count": null,
      "outputs": [
        {
          "output_type": "execute_result",
          "data": {
            "text/plain": [
              "array([[0.92311537],\n",
              "       [0.81631009],\n",
              "       [0.01910849],\n",
              "       [0.89364207],\n",
              "       [0.35955744],\n",
              "       [0.58069642],\n",
              "       [0.52663084],\n",
              "       [0.17406007],\n",
              "       [0.48148889],\n",
              "       [0.37600145],\n",
              "       [0.88244908],\n",
              "       [0.66492984],\n",
              "       [0.97980167],\n",
              "       [0.21010525],\n",
              "       [0.68648837],\n",
              "       [0.16362981],\n",
              "       [0.09470291],\n",
              "       [0.04564541],\n",
              "       [0.87574116],\n",
              "       [0.35631103]])"
            ]
          },
          "metadata": {
            "tags": []
          },
          "execution_count": 4
        }
      ]
    },
    {
      "cell_type": "markdown",
      "metadata": {
        "id": "ugpNiQdJ5zDB"
      },
      "source": [
        "#### Showing Values of Y"
      ]
    },
    {
      "cell_type": "code",
      "metadata": {
        "id": "4WynnjSN5zDC",
        "outputId": "b9afd749-6e43-45f3-b8cd-45833757fae7"
      },
      "source": [
        "y"
      ],
      "execution_count": null,
      "outputs": [
        {
          "output_type": "execute_result",
          "data": {
            "text/plain": [
              "array([[3.84623075],\n",
              "       [3.63262018],\n",
              "       [2.03821697],\n",
              "       [3.78728414],\n",
              "       [2.71911487],\n",
              "       [3.16139284],\n",
              "       [3.05326169],\n",
              "       [2.34812013],\n",
              "       [2.96297778],\n",
              "       [2.75200289],\n",
              "       [3.76489815],\n",
              "       [3.32985969],\n",
              "       [3.95960335],\n",
              "       [2.42021049],\n",
              "       [3.37297673],\n",
              "       [2.32725962],\n",
              "       [2.18940582],\n",
              "       [2.09129082],\n",
              "       [3.75148233],\n",
              "       [2.71262206]])"
            ]
          },
          "metadata": {
            "tags": []
          },
          "execution_count": 5
        }
      ]
    },
    {
      "cell_type": "markdown",
      "metadata": {
        "id": "E8aBT6DM5zDD"
      },
      "source": [
        "#### In Keras Sequential Means a Model which is like seqeuntial stack of layers. Its just something Keras uses to create models."
      ]
    },
    {
      "cell_type": "markdown",
      "metadata": {
        "id": "jdZWglfX5zDE"
      },
      "source": [
        "#### In addition to this Keras, uses Dense method to create a linear model, which is what we are going to use in our linear problem"
      ]
    },
    {
      "cell_type": "code",
      "metadata": {
        "id": "maEt8dQQ5zDE"
      },
      "source": [
        "linear_model = Sequential()"
      ],
      "execution_count": null,
      "outputs": []
    },
    {
      "cell_type": "code",
      "metadata": {
        "id": "RlwimEXo5zDF"
      },
      "source": [
        "linear_model.add(Dense(1, input_shape=(1,)))"
      ],
      "execution_count": null,
      "outputs": []
    },
    {
      "cell_type": "markdown",
      "metadata": {
        "id": "wLfofYw85zDF"
      },
      "source": [
        "Here the first argument of Dense is the required  output dimension we required, here as the output is 1 dimensional array, we use 1. And as the input is also 1 dimensional we use 1"
      ]
    },
    {
      "cell_type": "markdown",
      "metadata": {
        "id": "lzLf9BnW5zDF"
      },
      "source": [
        "Then we call Compile method to the linear model we created with required Gradient descent Algorithm, Learning Rate and Loss function\n",
        "\n",
        "Here, SGD is used for optimizer with learning rate of 0.1 and MSE or Mean Squared Loss as Loss function"
      ]
    },
    {
      "cell_type": "code",
      "metadata": {
        "id": "r5fS9vCw5zDF"
      },
      "source": [
        "linear_model.compile(optimizer=SGD(lr=0.01), loss='mse')"
      ],
      "execution_count": null,
      "outputs": []
    },
    {
      "cell_type": "markdown",
      "metadata": {
        "id": "8jDGolnh5zDG"
      },
      "source": [
        "This compile method first initializes weights with random values which is far from correct values"
      ]
    },
    {
      "cell_type": "markdown",
      "metadata": {
        "id": "BJrVQcBf5zDG"
      },
      "source": [
        "If we evaluate or check the Y predictions now with the random values, we will get result of Loss Function very large"
      ]
    },
    {
      "cell_type": "code",
      "metadata": {
        "id": "jF0GL-5Z5zDG",
        "outputId": "a84b397f-a58a-4fa7-ef9b-ca9df08fd13c"
      },
      "source": [
        "linear_model.evaluate(x, y)"
      ],
      "execution_count": null,
      "outputs": [
        {
          "output_type": "stream",
          "text": [
            "\r20/20 [==============================] - 1s 36ms/step\n"
          ],
          "name": "stdout"
        },
        {
          "output_type": "execute_result",
          "data": {
            "text/plain": [
              "6.692396640777588"
            ]
          },
          "metadata": {
            "tags": []
          },
          "execution_count": 9
        }
      ]
    },
    {
      "cell_type": "markdown",
      "metadata": {
        "id": "o4jWLV2h5zDH"
      },
      "source": [
        "To calculate weights with given input/output pair, we have to call fit() method on our model"
      ]
    },
    {
      "cell_type": "code",
      "metadata": {
        "id": "4SU53F085zDH",
        "outputId": "ec4c2f2b-36b9-41f9-cfd9-f5c62ee7c58b"
      },
      "source": [
        "linear_model.fit(x,y, epochs=200, batch_size=5)"
      ],
      "execution_count": null,
      "outputs": [
        {
          "output_type": "stream",
          "text": [
            "Epoch 1/200\n",
            "20/20 [==============================] - 0s 17ms/step - loss: 6.2102\n",
            "Epoch 2/200\n",
            "20/20 [==============================] - 0s 450us/step - loss: 5.0484\n",
            "Epoch 3/200\n",
            "20/20 [==============================] - 0s 600us/step - loss: 4.1025\n",
            "Epoch 4/200\n",
            "20/20 [==============================] - 0s 600us/step - loss: 3.3343\n",
            "Epoch 5/200\n",
            "20/20 [==============================] - 0s 550us/step - loss: 2.7126\n",
            "Epoch 6/200\n",
            "20/20 [==============================] - 0s 550us/step - loss: 2.2034\n",
            "Epoch 7/200\n",
            "20/20 [==============================] - 0s 600us/step - loss: 1.7920\n",
            "Epoch 8/200\n",
            "20/20 [==============================] - 0s 450us/step - loss: 1.4572\n",
            "Epoch 9/200\n",
            "20/20 [==============================] - 0s 500us/step - loss: 1.1839\n",
            "Epoch 10/200\n",
            "20/20 [==============================] - 0s 550us/step - loss: 0.9623\n",
            "Epoch 11/200\n",
            "20/20 [==============================] - 0s 450us/step - loss: 0.7823\n",
            "Epoch 12/200\n",
            "20/20 [==============================] - 0s 500us/step - loss: 0.6368\n",
            "Epoch 13/200\n",
            "20/20 [==============================] - 0s 500us/step - loss: 0.5176\n",
            "Epoch 14/200\n",
            "20/20 [==============================] - 0s 500us/step - loss: 0.4204\n",
            "Epoch 15/200\n",
            "20/20 [==============================] - 0s 500us/step - loss: 0.3419\n",
            "Epoch 16/200\n",
            "20/20 [==============================] - 0s 500us/step - loss: 0.2780\n",
            "Epoch 17/200\n",
            "20/20 [==============================] - 0s 500us/step - loss: 0.2260\n",
            "Epoch 18/200\n",
            "20/20 [==============================] - 0s 500us/step - loss: 0.1836\n",
            "Epoch 19/200\n",
            "20/20 [==============================] - 0s 450us/step - loss: 0.1493\n",
            "Epoch 20/200\n",
            "20/20 [==============================] - 0s 450us/step - loss: 0.1214\n",
            "Epoch 21/200\n",
            "20/20 [==============================] - 0s 600us/step - loss: 0.0987\n",
            "Epoch 22/200\n",
            "20/20 [==============================] - 0s 450us/step - loss: 0.0802\n",
            "Epoch 23/200\n",
            "20/20 [==============================] - 0s 400us/step - loss: 0.0652\n",
            "Epoch 24/200\n",
            "20/20 [==============================] - 0s 450us/step - loss: 0.0530\n",
            "Epoch 25/200\n",
            "20/20 [==============================] - 0s 650us/step - loss: 0.0431\n",
            "Epoch 26/200\n",
            "20/20 [==============================] - 0s 450us/step - loss: 0.0351\n",
            "Epoch 27/200\n",
            "20/20 [==============================] - 0s 400us/step - loss: 0.0285\n",
            "Epoch 28/200\n",
            "20/20 [==============================] - 0s 550us/step - loss: 0.0232\n",
            "Epoch 29/200\n",
            "20/20 [==============================] - 0s 450us/step - loss: 0.0189\n",
            "Epoch 30/200\n",
            "20/20 [==============================] - 0s 500us/step - loss: 0.0153\n",
            "Epoch 31/200\n",
            "20/20 [==============================] - 0s 650us/step - loss: 0.0125\n",
            "Epoch 32/200\n",
            "20/20 [==============================] - 0s 600us/step - loss: 0.0101\n",
            "Epoch 33/200\n",
            "20/20 [==============================] - 0s 400us/step - loss: 0.0083\n",
            "Epoch 34/200\n",
            "20/20 [==============================] - 0s 450us/step - loss: 0.0067\n",
            "Epoch 35/200\n",
            "20/20 [==============================] - 0s 650us/step - loss: 0.0055\n",
            "Epoch 36/200\n",
            "20/20 [==============================] - 0s 400us/step - loss: 0.0044\n",
            "Epoch 37/200\n",
            "20/20 [==============================] - 0s 700us/step - loss: 0.0036\n",
            "Epoch 38/200\n",
            "20/20 [==============================] - 0s 550us/step - loss: 0.0029\n",
            "Epoch 39/200\n",
            "20/20 [==============================] - 0s 400us/step - loss: 0.0024\n",
            "Epoch 40/200\n",
            "20/20 [==============================] - 0s 650us/step - loss: 0.0019\n",
            "Epoch 41/200\n",
            "20/20 [==============================] - 0s 550us/step - loss: 0.0016\n",
            "Epoch 42/200\n",
            "20/20 [==============================] - 0s 450us/step - loss: 0.0013\n",
            "Epoch 43/200\n",
            "20/20 [==============================] - 0s 400us/step - loss: 0.0010\n",
            "Epoch 44/200\n",
            "20/20 [==============================] - 0s 500us/step - loss: 8.5501e-04\n",
            "Epoch 45/200\n",
            "20/20 [==============================] - 0s 500us/step - loss: 6.9643e-04\n",
            "Epoch 46/200\n",
            "20/20 [==============================] - 0s 500us/step - loss: 5.6852e-04\n",
            "Epoch 47/200\n",
            "20/20 [==============================] - 0s 400us/step - loss: 4.6368e-04\n",
            "Epoch 48/200\n",
            "20/20 [==============================] - 0s 400us/step - loss: 3.7876e-04\n",
            "Epoch 49/200\n",
            "20/20 [==============================] - 0s 500us/step - loss: 3.0996e-04\n",
            "Epoch 50/200\n",
            "20/20 [==============================] - 0s 500us/step - loss: 2.5343e-04\n",
            "Epoch 51/200\n",
            "20/20 [==============================] - 0s 500us/step - loss: 2.0785e-04\n",
            "Epoch 52/200\n",
            "20/20 [==============================] - 0s 500us/step - loss: 1.7082e-04\n",
            "Epoch 53/200\n",
            "20/20 [==============================] - 0s 600us/step - loss: 1.4054e-04\n",
            "Epoch 54/200\n",
            "20/20 [==============================] - 0s 550us/step - loss: 1.1578e-04\n",
            "Epoch 55/200\n",
            "20/20 [==============================] - 0s 600us/step - loss: 9.5814e-05\n",
            "Epoch 56/200\n",
            "20/20 [==============================] - 0s 150us/step - loss: 7.9652e-05\n",
            "Epoch 57/200\n",
            "20/20 [==============================] - 0s 781us/step - loss: 6.6325e-05\n",
            "Epoch 58/200\n",
            "20/20 [==============================] - 0s 0us/step - loss: 5.5413e-05\n",
            "Epoch 59/200\n",
            "20/20 [==============================] - 0s 1ms/step - loss: 4.6563e-05\n",
            "Epoch 60/200\n",
            "20/20 [==============================] - 0s 350us/step - loss: 3.9407e-05\n",
            "Epoch 61/200\n",
            "20/20 [==============================] - 0s 450us/step - loss: 3.3605e-05\n",
            "Epoch 62/200\n",
            "20/20 [==============================] - 0s 450us/step - loss: 2.8781e-05\n",
            "Epoch 63/200\n",
            "20/20 [==============================] - 0s 450us/step - loss: 2.4933e-05\n",
            "Epoch 64/200\n",
            "20/20 [==============================] - 0s 501us/step - loss: 2.1682e-05\n",
            "Epoch 65/200\n",
            "20/20 [==============================] - 0s 450us/step - loss: 1.9057e-05\n",
            "Epoch 66/200\n",
            "20/20 [==============================] - 0s 450us/step - loss: 1.7002e-05\n",
            "Epoch 67/200\n",
            "20/20 [==============================] - 0s 400us/step - loss: 1.5179e-05\n",
            "Epoch 68/200\n",
            "20/20 [==============================] - 0s 400us/step - loss: 1.3715e-05\n",
            "Epoch 69/200\n",
            "20/20 [==============================] - 0s 450us/step - loss: 1.2519e-05\n",
            "Epoch 70/200\n",
            "20/20 [==============================] - 0s 550us/step - loss: 1.1555e-05\n",
            "Epoch 71/200\n",
            "20/20 [==============================] - 0s 600us/step - loss: 1.0736e-05\n",
            "Epoch 72/200\n",
            "20/20 [==============================] - 0s 400us/step - loss: 1.0036e-05\n",
            "Epoch 73/200\n",
            "20/20 [==============================] - 0s 450us/step - loss: 9.4855e-06\n",
            "Epoch 74/200\n",
            "20/20 [==============================] - 0s 450us/step - loss: 8.9921e-06\n",
            "Epoch 75/200\n",
            "20/20 [==============================] - 0s 550us/step - loss: 8.5880e-06\n",
            "Epoch 76/200\n",
            "20/20 [==============================] - 0s 550us/step - loss: 8.2432e-06\n",
            "Epoch 77/200\n",
            "20/20 [==============================] - 0s 550us/step - loss: 7.9310e-06\n",
            "Epoch 78/200\n",
            "20/20 [==============================] - 0s 500us/step - loss: 7.6908e-06\n",
            "Epoch 79/200\n",
            "20/20 [==============================] - 0s 450us/step - loss: 7.4654e-06\n",
            "Epoch 80/200\n",
            "20/20 [==============================] - 0s 450us/step - loss: 7.2751e-06\n",
            "Epoch 81/200\n",
            "20/20 [==============================] - 0s 500us/step - loss: 7.0749e-06\n",
            "Epoch 82/200\n",
            "20/20 [==============================] - 0s 650us/step - loss: 6.9048e-06\n",
            "Epoch 83/200\n",
            "20/20 [==============================] - 0s 500us/step - loss: 6.8178e-06\n",
            "Epoch 84/200\n",
            "20/20 [==============================] - 0s 500us/step - loss: 6.6536e-06\n",
            "Epoch 85/200\n",
            "20/20 [==============================] - 0s 550us/step - loss: 6.5417e-06\n",
            "Epoch 86/200\n",
            "20/20 [==============================] - 0s 550us/step - loss: 6.4147e-06\n",
            "Epoch 87/200\n",
            "20/20 [==============================] - 0s 550us/step - loss: 6.3157e-06\n",
            "Epoch 88/200\n",
            "20/20 [==============================] - 0s 550us/step - loss: 6.2266e-06\n",
            "Epoch 89/200\n",
            "20/20 [==============================] - 0s 501us/step - loss: 6.1102e-06\n",
            "Epoch 90/200\n",
            "20/20 [==============================] - 0s 450us/step - loss: 6.0359e-06\n",
            "Epoch 91/200\n",
            "20/20 [==============================] - 0s 400us/step - loss: 5.9495e-06\n",
            "Epoch 92/200\n",
            "20/20 [==============================] - 0s 450us/step - loss: 5.8981e-06\n",
            "Epoch 93/200\n",
            "20/20 [==============================] - 0s 450us/step - loss: 5.8506e-06\n",
            "Epoch 94/200\n",
            "20/20 [==============================] - 0s 550us/step - loss: 5.7257e-06\n",
            "Epoch 95/200\n",
            "20/20 [==============================] - 0s 550us/step - loss: 5.6647e-06\n",
            "Epoch 96/200\n",
            "20/20 [==============================] - 0s 600us/step - loss: 5.5805e-06\n",
            "Epoch 97/200\n"
          ],
          "name": "stdout"
        },
        {
          "output_type": "stream",
          "text": [
            "20/20 [==============================] - 0s 500us/step - loss: 5.4908e-06\n",
            "Epoch 98/200\n",
            "20/20 [==============================] - 0s 450us/step - loss: 5.4124e-06\n",
            "Epoch 99/200\n",
            "20/20 [==============================] - 0s 600us/step - loss: 5.3660e-06\n",
            "Epoch 100/200\n",
            "20/20 [==============================] - 0s 450us/step - loss: 5.2724e-06\n",
            "Epoch 101/200\n",
            "20/20 [==============================] - 0s 550us/step - loss: 5.2034e-06\n",
            "Epoch 102/200\n",
            "20/20 [==============================] - 0s 450us/step - loss: 5.1589e-06\n",
            "Epoch 103/200\n",
            "20/20 [==============================] - 0s 650us/step - loss: 5.1032e-06\n",
            "Epoch 104/200\n",
            "20/20 [==============================] - 0s 751us/step - loss: 5.0405e-06\n",
            "Epoch 105/200\n",
            "20/20 [==============================] - 0s 550us/step - loss: 4.9740e-06\n",
            "Epoch 106/200\n",
            "20/20 [==============================] - 0s 450us/step - loss: 4.8867e-06\n",
            "Epoch 107/200\n",
            "20/20 [==============================] - 0s 450us/step - loss: 4.8409e-06\n",
            "Epoch 108/200\n",
            "20/20 [==============================] - 0s 400us/step - loss: 4.7818e-06\n",
            "Epoch 109/200\n",
            "20/20 [==============================] - 0s 400us/step - loss: 4.7192e-06\n",
            "Epoch 110/200\n",
            "20/20 [==============================] - 0s 500us/step - loss: 4.6594e-06\n",
            "Epoch 111/200\n",
            "20/20 [==============================] - 0s 500us/step - loss: 4.6075e-06\n",
            "Epoch 112/200\n",
            "20/20 [==============================] - 0s 550us/step - loss: 4.5707e-06\n",
            "Epoch 113/200\n",
            "20/20 [==============================] - 0s 500us/step - loss: 4.4799e-06\n",
            "Epoch 114/200\n",
            "20/20 [==============================] - 0s 500us/step - loss: 4.4295e-06\n",
            "Epoch 115/200\n",
            "20/20 [==============================] - 0s 600us/step - loss: 4.3734e-06\n",
            "Epoch 116/200\n",
            "20/20 [==============================] - 0s 550us/step - loss: 4.3303e-06\n",
            "Epoch 117/200\n",
            "20/20 [==============================] - 0s 550us/step - loss: 4.2919e-06\n",
            "Epoch 118/200\n",
            "20/20 [==============================] - 0s 450us/step - loss: 4.2140e-06\n",
            "Epoch 119/200\n",
            "20/20 [==============================] - 0s 450us/step - loss: 4.1669e-06\n",
            "Epoch 120/200\n",
            "20/20 [==============================] - 0s 600us/step - loss: 4.1207e-06\n",
            "Epoch 121/200\n",
            "20/20 [==============================] - 0s 501us/step - loss: 4.0900e-06\n",
            "Epoch 122/200\n",
            "20/20 [==============================] - 0s 650us/step - loss: 4.0412e-06\n",
            "Epoch 123/200\n",
            "20/20 [==============================] - 0s 450us/step - loss: 3.9623e-06\n",
            "Epoch 124/200\n",
            "20/20 [==============================] - 0s 500us/step - loss: 3.9279e-06\n",
            "Epoch 125/200\n",
            "20/20 [==============================] - 0s 450us/step - loss: 3.8685e-06\n",
            "Epoch 126/200\n",
            "20/20 [==============================] - 0s 500us/step - loss: 3.8210e-06\n",
            "Epoch 127/200\n",
            "20/20 [==============================] - 0s 450us/step - loss: 3.7779e-06\n",
            "Epoch 128/200\n",
            "20/20 [==============================] - 0s 550us/step - loss: 3.7220e-06\n",
            "Epoch 129/200\n",
            "20/20 [==============================] - 0s 450us/step - loss: 3.6725e-06\n",
            "Epoch 130/200\n",
            "20/20 [==============================] - 0s 450us/step - loss: 3.6456e-06\n",
            "Epoch 131/200\n",
            "20/20 [==============================] - 0s 400us/step - loss: 3.5991e-06\n",
            "Epoch 132/200\n",
            "20/20 [==============================] - 0s 500us/step - loss: 3.5566e-06\n",
            "Epoch 133/200\n",
            "20/20 [==============================] - 0s 550us/step - loss: 3.5098e-06\n",
            "Epoch 134/200\n",
            "20/20 [==============================] - 0s 450us/step - loss: 3.4733e-06\n",
            "Epoch 135/200\n",
            "20/20 [==============================] - 0s 550us/step - loss: 3.4148e-06\n",
            "Epoch 136/200\n",
            "20/20 [==============================] - 0s 500us/step - loss: 3.3854e-06\n",
            "Epoch 137/200\n",
            "20/20 [==============================] - 0s 450us/step - loss: 3.3367e-06\n",
            "Epoch 138/200\n",
            "20/20 [==============================] - 0s 650us/step - loss: 3.2827e-06\n",
            "Epoch 139/200\n",
            "20/20 [==============================] - 0s 500us/step - loss: 3.2538e-06\n",
            "Epoch 140/200\n",
            "20/20 [==============================] - 0s 500us/step - loss: 3.2073e-06\n",
            "Epoch 141/200\n",
            "20/20 [==============================] - 0s 550us/step - loss: 3.1768e-06\n",
            "Epoch 142/200\n",
            "20/20 [==============================] - 0s 450us/step - loss: 3.1206e-06\n",
            "Epoch 143/200\n",
            "20/20 [==============================] - 0s 500us/step - loss: 3.0830e-06\n",
            "Epoch 144/200\n",
            "20/20 [==============================] - 0s 500us/step - loss: 3.0471e-06\n",
            "Epoch 145/200\n",
            "20/20 [==============================] - 0s 550us/step - loss: 3.0230e-06\n",
            "Epoch 146/200\n",
            "20/20 [==============================] - 0s 500us/step - loss: 2.9817e-06\n",
            "Epoch 147/200\n",
            "20/20 [==============================] - 0s 600us/step - loss: 2.9437e-06\n",
            "Epoch 148/200\n",
            "20/20 [==============================] - 0s 500us/step - loss: 2.9161e-06\n",
            "Epoch 149/200\n",
            "20/20 [==============================] - 0s 500us/step - loss: 2.8708e-06\n",
            "Epoch 150/200\n",
            "20/20 [==============================] - 0s 450us/step - loss: 2.8310e-06\n",
            "Epoch 151/200\n",
            "20/20 [==============================] - 0s 500us/step - loss: 2.8204e-06\n",
            "Epoch 152/200\n",
            "20/20 [==============================] - 0s 550us/step - loss: 2.7570e-06\n",
            "Epoch 153/200\n",
            "20/20 [==============================] - 0s 450us/step - loss: 2.7386e-06\n",
            "Epoch 154/200\n",
            "20/20 [==============================] - 0s 400us/step - loss: 2.6959e-06\n",
            "Epoch 155/200\n",
            "20/20 [==============================] - 0s 450us/step - loss: 2.6587e-06\n",
            "Epoch 156/200\n",
            "20/20 [==============================] - 0s 450us/step - loss: 2.6558e-06\n",
            "Epoch 157/200\n",
            "20/20 [==============================] - 0s 450us/step - loss: 2.5896e-06\n",
            "Epoch 158/200\n",
            "20/20 [==============================] - 0s 450us/step - loss: 2.5585e-06\n",
            "Epoch 159/200\n",
            "20/20 [==============================] - 0s 450us/step - loss: 2.5247e-06\n",
            "Epoch 160/200\n",
            "20/20 [==============================] - 0s 801us/step - loss: 2.4992e-06\n",
            "Epoch 161/200\n",
            "20/20 [==============================] - 0s 400us/step - loss: 2.4641e-06\n",
            "Epoch 162/200\n",
            "20/20 [==============================] - 0s 400us/step - loss: 2.4362e-06\n",
            "Epoch 163/200\n",
            "20/20 [==============================] - 0s 400us/step - loss: 2.4125e-06\n",
            "Epoch 164/200\n",
            "20/20 [==============================] - 0s 450us/step - loss: 2.3756e-06\n",
            "Epoch 165/200\n",
            "20/20 [==============================] - 0s 500us/step - loss: 2.3461e-06\n",
            "Epoch 166/200\n",
            "20/20 [==============================] - 0s 450us/step - loss: 2.3162e-06\n",
            "Epoch 167/200\n",
            "20/20 [==============================] - 0s 500us/step - loss: 2.2930e-06\n",
            "Epoch 168/200\n",
            "20/20 [==============================] - 0s 500us/step - loss: 2.2665e-06\n",
            "Epoch 169/200\n",
            "20/20 [==============================] - 0s 450us/step - loss: 2.2449e-06\n",
            "Epoch 170/200\n",
            "20/20 [==============================] - 0s 550us/step - loss: 2.2054e-06\n",
            "Epoch 171/200\n",
            "20/20 [==============================] - 0s 450us/step - loss: 2.1750e-06\n",
            "Epoch 172/200\n",
            "20/20 [==============================] - 0s 500us/step - loss: 2.1510e-06\n",
            "Epoch 173/200\n",
            "20/20 [==============================] - 0s 450us/step - loss: 2.1402e-06\n",
            "Epoch 174/200\n",
            "20/20 [==============================] - 0s 500us/step - loss: 2.0985e-06\n",
            "Epoch 175/200\n",
            "20/20 [==============================] - 0s 400us/step - loss: 2.0705e-06\n",
            "Epoch 176/200\n",
            "20/20 [==============================] - 0s 450us/step - loss: 2.0474e-06\n",
            "Epoch 177/200\n",
            "20/20 [==============================] - 0s 0us/step - loss: 2.0236e-06\n",
            "Epoch 178/200\n",
            "20/20 [==============================] - 0s 1ms/step - loss: 1.9971e-06\n",
            "Epoch 179/200\n",
            "20/20 [==============================] - 0s 450us/step - loss: 1.9759e-06\n",
            "Epoch 180/200\n",
            "20/20 [==============================] - 0s 450us/step - loss: 1.9581e-06\n",
            "Epoch 181/200\n",
            "20/20 [==============================] - 0s 450us/step - loss: 1.9257e-06\n",
            "Epoch 182/200\n",
            "20/20 [==============================] - 0s 550us/step - loss: 1.9024e-06\n",
            "Epoch 183/200\n",
            "20/20 [==============================] - 0s 400us/step - loss: 1.8774e-06\n",
            "Epoch 184/200\n",
            "20/20 [==============================] - 0s 400us/step - loss: 1.8529e-06\n",
            "Epoch 185/200\n",
            "20/20 [==============================] - 0s 400us/step - loss: 1.8288e-06\n",
            "Epoch 186/200\n",
            "20/20 [==============================] - 0s 450us/step - loss: 1.8145e-06\n",
            "Epoch 187/200\n",
            "20/20 [==============================] - 0s 450us/step - loss: 1.7860e-06\n",
            "Epoch 188/200\n",
            "20/20 [==============================] - 0s 450us/step - loss: 1.7708e-06\n",
            "Epoch 189/200\n",
            "20/20 [==============================] - 0s 400us/step - loss: 1.7429e-06\n",
            "Epoch 190/200\n"
          ],
          "name": "stdout"
        },
        {
          "output_type": "stream",
          "text": [
            "20/20 [==============================] - 0s 450us/step - loss: 1.7252e-06\n",
            "Epoch 191/200\n",
            "20/20 [==============================] - 0s 400us/step - loss: 1.7039e-06\n",
            "Epoch 192/200\n",
            "20/20 [==============================] - 0s 450us/step - loss: 1.6859e-06\n",
            "Epoch 193/200\n",
            "20/20 [==============================] - 0s 500us/step - loss: 1.6656e-06\n",
            "Epoch 194/200\n",
            "20/20 [==============================] - 0s 400us/step - loss: 1.6377e-06\n",
            "Epoch 195/200\n",
            "20/20 [==============================] - 0s 400us/step - loss: 1.6230e-06\n",
            "Epoch 196/200\n",
            "20/20 [==============================] - 0s 350us/step - loss: 1.5946e-06\n",
            "Epoch 197/200\n",
            "20/20 [==============================] - 0s 400us/step - loss: 1.5756e-06\n",
            "Epoch 198/200\n",
            "20/20 [==============================] - 0s 500us/step - loss: 1.5560e-06\n",
            "Epoch 199/200\n",
            "20/20 [==============================] - 0s 600us/step - loss: 1.5428e-06\n",
            "Epoch 200/200\n",
            "20/20 [==============================] - 0s 550us/step - loss: 1.5194e-06\n"
          ],
          "name": "stdout"
        },
        {
          "output_type": "execute_result",
          "data": {
            "text/plain": [
              "<keras.callbacks.History at 0xbabca8add8>"
            ]
          },
          "metadata": {
            "tags": []
          },
          "execution_count": 10
        }
      ]
    },
    {
      "cell_type": "markdown",
      "metadata": {
        "id": "f-AhF_j-5zDH"
      },
      "source": [
        "Here epochs is the number of epochs the calculation/learning should be run. 1 Epoch means going through each input ones... so 5 Epoch means going through all the inputs 5 times. "
      ]
    },
    {
      "cell_type": "markdown",
      "metadata": {
        "id": "P4e6HiaC5zDH"
      },
      "source": [
        "Generally input data is fed in batches/collection, which are like 10-100 input data at onces, not all of them at once"
      ]
    },
    {
      "cell_type": "markdown",
      "metadata": {
        "id": "fG3LogV95zDI"
      },
      "source": [
        "Now if we check the loss value, it will be lot less than before"
      ]
    },
    {
      "cell_type": "markdown",
      "metadata": {
        "id": "CeqL92Ht5zDI"
      },
      "source": [
        "#### This is a title"
      ]
    },
    {
      "cell_type": "code",
      "metadata": {
        "id": "jIi85LW15zDI",
        "outputId": "44acf303-b53e-4aff-f703-bce4526f17ec"
      },
      "source": [
        "linear_model.evaluate(x, y, verbose=0)"
      ],
      "execution_count": null,
      "outputs": [
        {
          "output_type": "execute_result",
          "data": {
            "text/plain": [
              "1.5041637198009994e-06"
            ]
          },
          "metadata": {
            "tags": []
          },
          "execution_count": 11
        }
      ]
    },
    {
      "cell_type": "markdown",
      "metadata": {
        "id": "BriV5iq85zDJ"
      },
      "source": [
        "We can only check the weights, the model has calculated"
      ]
    },
    {
      "cell_type": "code",
      "metadata": {
        "id": "pQa-mwx85zDJ",
        "outputId": "a89ed9a1-21f8-442d-84d9-b13c80aaba3f"
      },
      "source": [
        "linear_model.get_weights()"
      ],
      "execution_count": null,
      "outputs": [
        {
          "output_type": "execute_result",
          "data": {
            "text/plain": [
              "[array([[1.9961387]], dtype=float32), array([2.002116], dtype=float32)]"
            ]
          },
          "metadata": {
            "tags": []
          },
          "execution_count": 12
        }
      ]
    },
    {
      "cell_type": "markdown",
      "metadata": {
        "id": "NIjeeGJF5zDK"
      },
      "source": [
        "here 1.9411 is nearly equal to correct value which is 2, and the bias 2.0368 which is close to 2.0"
      ]
    },
    {
      "cell_type": "code",
      "metadata": {
        "collapsed": true,
        "id": "BDx1WbS85zDK"
      },
      "source": [
        ""
      ],
      "execution_count": null,
      "outputs": []
    }
  ]
}